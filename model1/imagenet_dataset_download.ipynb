{
 "cells": [
  {
   "cell_type": "code",
   "execution_count": 1,
   "id": "97a66f79-04a9-4408-af4e-beb52936cbea",
   "metadata": {},
   "outputs": [
    {
     "name": "stdout",
     "output_type": "stream",
     "text": [
      "GET request successful!\n",
      "Zip file downloaded and saved as: ILSVRC.zip\n"
     ]
    }
   ],
   "source": [
    "import requests\n",
    "\n",
    "token = 'scitokens-admin-create-token'\n",
    "\n",
    "# URL to download the zip file from (assuming server provides a zip file)\n",
    "get_url = 'https://sdsc-origin.nationalresearchplatform.org:8443/nrp/osdf/imagenet/imagenet-object-localization-challenge.zip'\n",
    "\n",
    "# Headers with Authorization token\n",
    "headers = {\n",
    "    'Authorization': 'Bearer ' + token,\n",
    "    'Content-Type': 'application/json'\n",
    "}\n",
    "\n",
    "# Function to perform GET request and download zip file\n",
    "def perform_get_request(url, headers, output_file):\n",
    "    try:\n",
    "        with requests.get(url, headers=headers, stream=True) as response:\n",
    "            # Check if request was successful\n",
    "            if response.status_code == 200:\n",
    "                print('GET request successful!')\n",
    "\n",
    "                # Save response content to file\n",
    "                with open(output_file, 'wb') as f:\n",
    "                    for chunk in response.iter_content(chunk_size=8192):\n",
    "                        f.write(chunk)\n",
    "                \n",
    "                print(f'Zip file downloaded and saved as: {output_file}')\n",
    "            else:\n",
    "                print(f'GET request failed: {response.status_code}')\n",
    "                print('Response:')\n",
    "                print(response.text)\n",
    "\n",
    "    except requests.exceptions.RequestException as e:\n",
    "        print('GET request failed:', e)\n",
    "\n",
    "# Specify where to save the downloaded zip file\n",
    "output_file = 'ILSVRC.zip'\n",
    "\n",
    "# Perform GET request and download the zip file\n",
    "perform_get_request(get_url, headers, output_file)\n"
   ]
  }
 ],
 "metadata": {
  "kernelspec": {
   "display_name": "Python 3 (ipykernel)",
   "language": "python",
   "name": "python3"
  },
  "language_info": {
   "codemirror_mode": {
    "name": "ipython",
    "version": 3
   },
   "file_extension": ".py",
   "mimetype": "text/x-python",
   "name": "python",
   "nbconvert_exporter": "python",
   "pygments_lexer": "ipython3",
   "version": "3.11.9"
  }
 },
 "nbformat": 4,
 "nbformat_minor": 5
}
